{
 "cells": [
  {
   "attachments": {},
   "cell_type": "markdown",
   "metadata": {},
   "source": [
    "# [Pymunk](http://www.pymunk.org/en/latest/)\n",
    "\n",
    "Is a easy-to-use pythonic 2d physics library that can be used whenever you need 2d rigid body physics from Python. Perfect when you need 2d physics in your game, demo or other application! It is built on top of the very capable 2d physics library Chipmunk."
   ]
  },
  {
   "cell_type": "code",
   "execution_count": 1,
   "metadata": {},
   "outputs": [],
   "source": [
    "import pymunk"
   ]
  },
  {
   "attachments": {},
   "cell_type": "markdown",
   "metadata": {},
   "source": [
    "## [Physical Object Types](http://www.pymunk.org/en/latest/pymunk.html#physical-object-types)\n",
    "\n",
    "- [Body](http://www.pymunk.org/en/latest/pymunk.html#pymunk.Body)   \n",
    "    A rigid body. Has attributes like **position, velocity, angle, angular velocity, etc**. Can be added to a [Space](http://www.pymunk.org/en/latest/pymunk.html#pymunk.Space) and can have [Shapes](http://www.pymunk.org/en/latest/pymunk.html#pymunk.Shape) attached to it.\n",
    "    - **Dynamic**  \n",
    "        Is affected by forces and torque. This is the default body type.\n",
    "    - **Kinematic**  \n",
    "        Is not affected by forces or torque, but that can still affect other bodies through collisions. A kinematic body moves according to its velocity, but ignores its mass. Kinematic bodies are great for things like moving platforms or characters in a platformer game.\n",
    "    - **Static**  \n",
    "        Is not affected by forces or torque and that cannot move. If you want to create a body that cannot move and that is not affected by collisions, you should use a [ShapeFilter](http://www.pymunk.org/en/latest/pymunk.html#pymunk.ShapeFilter) instead of a static body. Static bodies are great for things like walls, the ground, etc.\n",
    "- [Shape](http://www.pymunk.org/en/latest/pymunk.html#pymunk.Shape)  \n",
    "    A shape is a form that is attached to a [Body](http://www.pymunk.org/en/latest/pymunk.html#pymunk.Body).\n",
    "    \n",
    "    Shapes can be anything from a line segment, circle, polygon or image. Shapes are used for collision detection and to calculate the mass properties of a body.\n",
    "\n",
    "- [Constraint](http://www.pymunk.org/en/latest/pymunk.html#pymunk.Constraint)  \n",
    "    Is a connection between two bodies. It can be used to enforce that two bodies should be at a certain distance from each other, or that they should rotate at the same speed for example. There are many different types of constraints, see [Constraint Types](http://www.pymunk.org/en/latest/pymunk.html#constraint-types) for a list of the different types."
   ]
  },
  {
   "cell_type": "code",
   "execution_count": null,
   "metadata": {},
   "outputs": [],
   "source": []
  },
  {
   "attachments": {},
   "cell_type": "markdown",
   "metadata": {},
   "source": [
    "### [Dynamic]"
   ]
  },
  {
   "cell_type": "code",
   "execution_count": null,
   "metadata": {},
   "outputs": [],
   "source": []
  },
  {
   "cell_type": "markdown",
   "metadata": {},
   "source": []
  },
  {
   "cell_type": "code",
   "execution_count": null,
   "metadata": {},
   "outputs": [],
   "source": []
  },
  {
   "cell_type": "markdown",
   "metadata": {},
   "source": []
  },
  {
   "cell_type": "code",
   "execution_count": null,
   "metadata": {},
   "outputs": [],
   "source": []
  },
  {
   "cell_type": "markdown",
   "metadata": {},
   "source": []
  },
  {
   "cell_type": "code",
   "execution_count": null,
   "metadata": {},
   "outputs": [],
   "source": []
  }
 ],
 "metadata": {
  "kernelspec": {
   "display_name": ".venv",
   "language": "python",
   "name": "python3"
  },
  "language_info": {
   "codemirror_mode": {
    "name": "ipython",
    "version": 3
   },
   "file_extension": ".py",
   "mimetype": "text/x-python",
   "name": "python",
   "nbconvert_exporter": "python",
   "pygments_lexer": "ipython3",
   "version": "3.11.1"
  },
  "orig_nbformat": 4
 },
 "nbformat": 4,
 "nbformat_minor": 2
}
